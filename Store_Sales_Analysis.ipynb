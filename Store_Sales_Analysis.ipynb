{
  "nbformat": 4,
  "nbformat_minor": 0,
  "metadata": {
    "colab": {
      "provenance": [],
      "authorship_tag": "ABX9TyOz/GOx5KoN5lqiEKX0qApn",
      "include_colab_link": true
    },
    "kernelspec": {
      "name": "python3",
      "display_name": "Python 3"
    },
    "language_info": {
      "name": "python"
    }
  },
  "cells": [
    {
      "cell_type": "markdown",
      "metadata": {
        "id": "view-in-github",
        "colab_type": "text"
      },
      "source": [
        "<a href=\"https://colab.research.google.com/github/Harsha-211/Sales-Analysis/blob/main/Store_Sales_Analysis.ipynb\" target=\"_parent\"><img src=\"https://colab.research.google.com/assets/colab-badge.svg\" alt=\"Open In Colab\"/></a>"
      ]
    },
    {
      "cell_type": "code",
      "execution_count": 4,
      "metadata": {
        "id": "eqqSTkuvnTWt"
      },
      "outputs": [],
      "source": [
        "import pandas as pd\n",
        "import matplotlib.pyplot as plt"
      ]
    },
    {
      "cell_type": "code",
      "source": [
        "df = pd.read_csv(\"supermarket_sales - Sheet1.csv\")"
      ],
      "metadata": {
        "id": "vjlozwPznXmy"
      },
      "execution_count": 5,
      "outputs": []
    },
    {
      "cell_type": "code",
      "source": [
        "df.head(10)"
      ],
      "metadata": {
        "colab": {
          "base_uri": "https://localhost:8080/",
          "height": 554
        },
        "id": "WNaAkY98np8W",
        "outputId": "78605beb-01fe-4310-c77d-570a9eb6abd7"
      },
      "execution_count": 6,
      "outputs": [
        {
          "output_type": "execute_result",
          "data": {
            "text/plain": [
              "    Invoice ID Branch       City Customer type  Gender  \\\n",
              "0  750-67-8428      A     Yangon        Member  Female   \n",
              "1  226-31-3081      C  Naypyitaw        Normal  Female   \n",
              "2  631-41-3108      A     Yangon        Normal    Male   \n",
              "3  123-19-1176      A     Yangon        Member    Male   \n",
              "4  373-73-7910      A     Yangon        Normal    Male   \n",
              "5  699-14-3026      C  Naypyitaw        Normal    Male   \n",
              "6  355-53-5943      A     Yangon        Member  Female   \n",
              "7  315-22-5665      C  Naypyitaw        Normal  Female   \n",
              "8  665-32-9167      A     Yangon        Member  Female   \n",
              "9  692-92-5582      B   Mandalay        Member  Female   \n",
              "\n",
              "             Product line  Unit price  Quantity   Tax 5%     Total       Date  \\\n",
              "0       Health and beauty       74.69         7  26.1415  548.9715   1/5/2019   \n",
              "1  Electronic accessories       15.28         5   3.8200   80.2200   3/8/2019   \n",
              "2      Home and lifestyle       46.33         7  16.2155  340.5255   3/3/2019   \n",
              "3       Health and beauty       58.22         8  23.2880  489.0480  1/27/2019   \n",
              "4       Sports and travel       86.31         7  30.2085  634.3785   2/8/2019   \n",
              "5  Electronic accessories       85.39         7  29.8865  627.6165  3/25/2019   \n",
              "6  Electronic accessories       68.84         6  20.6520  433.6920  2/25/2019   \n",
              "7      Home and lifestyle       73.56        10  36.7800  772.3800  2/24/2019   \n",
              "8       Health and beauty       36.26         2   3.6260   76.1460  1/10/2019   \n",
              "9      Food and beverages       54.84         3   8.2260  172.7460  2/20/2019   \n",
              "\n",
              "    Time      Payment    cogs  gross margin percentage  gross income  Rating  \n",
              "0  13:08      Ewallet  522.83                 4.761905       26.1415     9.1  \n",
              "1  10:29         Cash   76.40                 4.761905        3.8200     9.6  \n",
              "2  13:23  Credit card  324.31                 4.761905       16.2155     7.4  \n",
              "3  20:33      Ewallet  465.76                 4.761905       23.2880     8.4  \n",
              "4  10:37      Ewallet  604.17                 4.761905       30.2085     5.3  \n",
              "5  18:30      Ewallet  597.73                 4.761905       29.8865     4.1  \n",
              "6  14:36      Ewallet  413.04                 4.761905       20.6520     5.8  \n",
              "7  11:38      Ewallet  735.60                 4.761905       36.7800     8.0  \n",
              "8  17:15  Credit card   72.52                 4.761905        3.6260     7.2  \n",
              "9  13:27  Credit card  164.52                 4.761905        8.2260     5.9  "
            ],
            "text/html": [
              "\n",
              "  <div id=\"df-4561680f-d4fd-42be-b022-8bdd4a9e32e4\" class=\"colab-df-container\">\n",
              "    <div>\n",
              "<style scoped>\n",
              "    .dataframe tbody tr th:only-of-type {\n",
              "        vertical-align: middle;\n",
              "    }\n",
              "\n",
              "    .dataframe tbody tr th {\n",
              "        vertical-align: top;\n",
              "    }\n",
              "\n",
              "    .dataframe thead th {\n",
              "        text-align: right;\n",
              "    }\n",
              "</style>\n",
              "<table border=\"1\" class=\"dataframe\">\n",
              "  <thead>\n",
              "    <tr style=\"text-align: right;\">\n",
              "      <th></th>\n",
              "      <th>Invoice ID</th>\n",
              "      <th>Branch</th>\n",
              "      <th>City</th>\n",
              "      <th>Customer type</th>\n",
              "      <th>Gender</th>\n",
              "      <th>Product line</th>\n",
              "      <th>Unit price</th>\n",
              "      <th>Quantity</th>\n",
              "      <th>Tax 5%</th>\n",
              "      <th>Total</th>\n",
              "      <th>Date</th>\n",
              "      <th>Time</th>\n",
              "      <th>Payment</th>\n",
              "      <th>cogs</th>\n",
              "      <th>gross margin percentage</th>\n",
              "      <th>gross income</th>\n",
              "      <th>Rating</th>\n",
              "    </tr>\n",
              "  </thead>\n",
              "  <tbody>\n",
              "    <tr>\n",
              "      <th>0</th>\n",
              "      <td>750-67-8428</td>\n",
              "      <td>A</td>\n",
              "      <td>Yangon</td>\n",
              "      <td>Member</td>\n",
              "      <td>Female</td>\n",
              "      <td>Health and beauty</td>\n",
              "      <td>74.69</td>\n",
              "      <td>7</td>\n",
              "      <td>26.1415</td>\n",
              "      <td>548.9715</td>\n",
              "      <td>1/5/2019</td>\n",
              "      <td>13:08</td>\n",
              "      <td>Ewallet</td>\n",
              "      <td>522.83</td>\n",
              "      <td>4.761905</td>\n",
              "      <td>26.1415</td>\n",
              "      <td>9.1</td>\n",
              "    </tr>\n",
              "    <tr>\n",
              "      <th>1</th>\n",
              "      <td>226-31-3081</td>\n",
              "      <td>C</td>\n",
              "      <td>Naypyitaw</td>\n",
              "      <td>Normal</td>\n",
              "      <td>Female</td>\n",
              "      <td>Electronic accessories</td>\n",
              "      <td>15.28</td>\n",
              "      <td>5</td>\n",
              "      <td>3.8200</td>\n",
              "      <td>80.2200</td>\n",
              "      <td>3/8/2019</td>\n",
              "      <td>10:29</td>\n",
              "      <td>Cash</td>\n",
              "      <td>76.40</td>\n",
              "      <td>4.761905</td>\n",
              "      <td>3.8200</td>\n",
              "      <td>9.6</td>\n",
              "    </tr>\n",
              "    <tr>\n",
              "      <th>2</th>\n",
              "      <td>631-41-3108</td>\n",
              "      <td>A</td>\n",
              "      <td>Yangon</td>\n",
              "      <td>Normal</td>\n",
              "      <td>Male</td>\n",
              "      <td>Home and lifestyle</td>\n",
              "      <td>46.33</td>\n",
              "      <td>7</td>\n",
              "      <td>16.2155</td>\n",
              "      <td>340.5255</td>\n",
              "      <td>3/3/2019</td>\n",
              "      <td>13:23</td>\n",
              "      <td>Credit card</td>\n",
              "      <td>324.31</td>\n",
              "      <td>4.761905</td>\n",
              "      <td>16.2155</td>\n",
              "      <td>7.4</td>\n",
              "    </tr>\n",
              "    <tr>\n",
              "      <th>3</th>\n",
              "      <td>123-19-1176</td>\n",
              "      <td>A</td>\n",
              "      <td>Yangon</td>\n",
              "      <td>Member</td>\n",
              "      <td>Male</td>\n",
              "      <td>Health and beauty</td>\n",
              "      <td>58.22</td>\n",
              "      <td>8</td>\n",
              "      <td>23.2880</td>\n",
              "      <td>489.0480</td>\n",
              "      <td>1/27/2019</td>\n",
              "      <td>20:33</td>\n",
              "      <td>Ewallet</td>\n",
              "      <td>465.76</td>\n",
              "      <td>4.761905</td>\n",
              "      <td>23.2880</td>\n",
              "      <td>8.4</td>\n",
              "    </tr>\n",
              "    <tr>\n",
              "      <th>4</th>\n",
              "      <td>373-73-7910</td>\n",
              "      <td>A</td>\n",
              "      <td>Yangon</td>\n",
              "      <td>Normal</td>\n",
              "      <td>Male</td>\n",
              "      <td>Sports and travel</td>\n",
              "      <td>86.31</td>\n",
              "      <td>7</td>\n",
              "      <td>30.2085</td>\n",
              "      <td>634.3785</td>\n",
              "      <td>2/8/2019</td>\n",
              "      <td>10:37</td>\n",
              "      <td>Ewallet</td>\n",
              "      <td>604.17</td>\n",
              "      <td>4.761905</td>\n",
              "      <td>30.2085</td>\n",
              "      <td>5.3</td>\n",
              "    </tr>\n",
              "    <tr>\n",
              "      <th>5</th>\n",
              "      <td>699-14-3026</td>\n",
              "      <td>C</td>\n",
              "      <td>Naypyitaw</td>\n",
              "      <td>Normal</td>\n",
              "      <td>Male</td>\n",
              "      <td>Electronic accessories</td>\n",
              "      <td>85.39</td>\n",
              "      <td>7</td>\n",
              "      <td>29.8865</td>\n",
              "      <td>627.6165</td>\n",
              "      <td>3/25/2019</td>\n",
              "      <td>18:30</td>\n",
              "      <td>Ewallet</td>\n",
              "      <td>597.73</td>\n",
              "      <td>4.761905</td>\n",
              "      <td>29.8865</td>\n",
              "      <td>4.1</td>\n",
              "    </tr>\n",
              "    <tr>\n",
              "      <th>6</th>\n",
              "      <td>355-53-5943</td>\n",
              "      <td>A</td>\n",
              "      <td>Yangon</td>\n",
              "      <td>Member</td>\n",
              "      <td>Female</td>\n",
              "      <td>Electronic accessories</td>\n",
              "      <td>68.84</td>\n",
              "      <td>6</td>\n",
              "      <td>20.6520</td>\n",
              "      <td>433.6920</td>\n",
              "      <td>2/25/2019</td>\n",
              "      <td>14:36</td>\n",
              "      <td>Ewallet</td>\n",
              "      <td>413.04</td>\n",
              "      <td>4.761905</td>\n",
              "      <td>20.6520</td>\n",
              "      <td>5.8</td>\n",
              "    </tr>\n",
              "    <tr>\n",
              "      <th>7</th>\n",
              "      <td>315-22-5665</td>\n",
              "      <td>C</td>\n",
              "      <td>Naypyitaw</td>\n",
              "      <td>Normal</td>\n",
              "      <td>Female</td>\n",
              "      <td>Home and lifestyle</td>\n",
              "      <td>73.56</td>\n",
              "      <td>10</td>\n",
              "      <td>36.7800</td>\n",
              "      <td>772.3800</td>\n",
              "      <td>2/24/2019</td>\n",
              "      <td>11:38</td>\n",
              "      <td>Ewallet</td>\n",
              "      <td>735.60</td>\n",
              "      <td>4.761905</td>\n",
              "      <td>36.7800</td>\n",
              "      <td>8.0</td>\n",
              "    </tr>\n",
              "    <tr>\n",
              "      <th>8</th>\n",
              "      <td>665-32-9167</td>\n",
              "      <td>A</td>\n",
              "      <td>Yangon</td>\n",
              "      <td>Member</td>\n",
              "      <td>Female</td>\n",
              "      <td>Health and beauty</td>\n",
              "      <td>36.26</td>\n",
              "      <td>2</td>\n",
              "      <td>3.6260</td>\n",
              "      <td>76.1460</td>\n",
              "      <td>1/10/2019</td>\n",
              "      <td>17:15</td>\n",
              "      <td>Credit card</td>\n",
              "      <td>72.52</td>\n",
              "      <td>4.761905</td>\n",
              "      <td>3.6260</td>\n",
              "      <td>7.2</td>\n",
              "    </tr>\n",
              "    <tr>\n",
              "      <th>9</th>\n",
              "      <td>692-92-5582</td>\n",
              "      <td>B</td>\n",
              "      <td>Mandalay</td>\n",
              "      <td>Member</td>\n",
              "      <td>Female</td>\n",
              "      <td>Food and beverages</td>\n",
              "      <td>54.84</td>\n",
              "      <td>3</td>\n",
              "      <td>8.2260</td>\n",
              "      <td>172.7460</td>\n",
              "      <td>2/20/2019</td>\n",
              "      <td>13:27</td>\n",
              "      <td>Credit card</td>\n",
              "      <td>164.52</td>\n",
              "      <td>4.761905</td>\n",
              "      <td>8.2260</td>\n",
              "      <td>5.9</td>\n",
              "    </tr>\n",
              "  </tbody>\n",
              "</table>\n",
              "</div>\n",
              "    <div class=\"colab-df-buttons\">\n",
              "\n",
              "  <div class=\"colab-df-container\">\n",
              "    <button class=\"colab-df-convert\" onclick=\"convertToInteractive('df-4561680f-d4fd-42be-b022-8bdd4a9e32e4')\"\n",
              "            title=\"Convert this dataframe to an interactive table.\"\n",
              "            style=\"display:none;\">\n",
              "\n",
              "  <svg xmlns=\"http://www.w3.org/2000/svg\" height=\"24px\" viewBox=\"0 -960 960 960\">\n",
              "    <path d=\"M120-120v-720h720v720H120Zm60-500h600v-160H180v160Zm220 220h160v-160H400v160Zm0 220h160v-160H400v160ZM180-400h160v-160H180v160Zm440 0h160v-160H620v160ZM180-180h160v-160H180v160Zm440 0h160v-160H620v160Z\"/>\n",
              "  </svg>\n",
              "    </button>\n",
              "\n",
              "  <style>\n",
              "    .colab-df-container {\n",
              "      display:flex;\n",
              "      gap: 12px;\n",
              "    }\n",
              "\n",
              "    .colab-df-convert {\n",
              "      background-color: #E8F0FE;\n",
              "      border: none;\n",
              "      border-radius: 50%;\n",
              "      cursor: pointer;\n",
              "      display: none;\n",
              "      fill: #1967D2;\n",
              "      height: 32px;\n",
              "      padding: 0 0 0 0;\n",
              "      width: 32px;\n",
              "    }\n",
              "\n",
              "    .colab-df-convert:hover {\n",
              "      background-color: #E2EBFA;\n",
              "      box-shadow: 0px 1px 2px rgba(60, 64, 67, 0.3), 0px 1px 3px 1px rgba(60, 64, 67, 0.15);\n",
              "      fill: #174EA6;\n",
              "    }\n",
              "\n",
              "    .colab-df-buttons div {\n",
              "      margin-bottom: 4px;\n",
              "    }\n",
              "\n",
              "    [theme=dark] .colab-df-convert {\n",
              "      background-color: #3B4455;\n",
              "      fill: #D2E3FC;\n",
              "    }\n",
              "\n",
              "    [theme=dark] .colab-df-convert:hover {\n",
              "      background-color: #434B5C;\n",
              "      box-shadow: 0px 1px 3px 1px rgba(0, 0, 0, 0.15);\n",
              "      filter: drop-shadow(0px 1px 2px rgba(0, 0, 0, 0.3));\n",
              "      fill: #FFFFFF;\n",
              "    }\n",
              "  </style>\n",
              "\n",
              "    <script>\n",
              "      const buttonEl =\n",
              "        document.querySelector('#df-4561680f-d4fd-42be-b022-8bdd4a9e32e4 button.colab-df-convert');\n",
              "      buttonEl.style.display =\n",
              "        google.colab.kernel.accessAllowed ? 'block' : 'none';\n",
              "\n",
              "      async function convertToInteractive(key) {\n",
              "        const element = document.querySelector('#df-4561680f-d4fd-42be-b022-8bdd4a9e32e4');\n",
              "        const dataTable =\n",
              "          await google.colab.kernel.invokeFunction('convertToInteractive',\n",
              "                                                    [key], {});\n",
              "        if (!dataTable) return;\n",
              "\n",
              "        const docLinkHtml = 'Like what you see? Visit the ' +\n",
              "          '<a target=\"_blank\" href=https://colab.research.google.com/notebooks/data_table.ipynb>data table notebook</a>'\n",
              "          + ' to learn more about interactive tables.';\n",
              "        element.innerHTML = '';\n",
              "        dataTable['output_type'] = 'display_data';\n",
              "        await google.colab.output.renderOutput(dataTable, element);\n",
              "        const docLink = document.createElement('div');\n",
              "        docLink.innerHTML = docLinkHtml;\n",
              "        element.appendChild(docLink);\n",
              "      }\n",
              "    </script>\n",
              "  </div>\n",
              "\n",
              "\n",
              "<div id=\"df-47886143-1999-4147-8ca7-d7b35eca11a9\">\n",
              "  <button class=\"colab-df-quickchart\" onclick=\"quickchart('df-47886143-1999-4147-8ca7-d7b35eca11a9')\"\n",
              "            title=\"Suggest charts\"\n",
              "            style=\"display:none;\">\n",
              "\n",
              "<svg xmlns=\"http://www.w3.org/2000/svg\" height=\"24px\"viewBox=\"0 0 24 24\"\n",
              "     width=\"24px\">\n",
              "    <g>\n",
              "        <path d=\"M19 3H5c-1.1 0-2 .9-2 2v14c0 1.1.9 2 2 2h14c1.1 0 2-.9 2-2V5c0-1.1-.9-2-2-2zM9 17H7v-7h2v7zm4 0h-2V7h2v10zm4 0h-2v-4h2v4z\"/>\n",
              "    </g>\n",
              "</svg>\n",
              "  </button>\n",
              "\n",
              "<style>\n",
              "  .colab-df-quickchart {\n",
              "      --bg-color: #E8F0FE;\n",
              "      --fill-color: #1967D2;\n",
              "      --hover-bg-color: #E2EBFA;\n",
              "      --hover-fill-color: #174EA6;\n",
              "      --disabled-fill-color: #AAA;\n",
              "      --disabled-bg-color: #DDD;\n",
              "  }\n",
              "\n",
              "  [theme=dark] .colab-df-quickchart {\n",
              "      --bg-color: #3B4455;\n",
              "      --fill-color: #D2E3FC;\n",
              "      --hover-bg-color: #434B5C;\n",
              "      --hover-fill-color: #FFFFFF;\n",
              "      --disabled-bg-color: #3B4455;\n",
              "      --disabled-fill-color: #666;\n",
              "  }\n",
              "\n",
              "  .colab-df-quickchart {\n",
              "    background-color: var(--bg-color);\n",
              "    border: none;\n",
              "    border-radius: 50%;\n",
              "    cursor: pointer;\n",
              "    display: none;\n",
              "    fill: var(--fill-color);\n",
              "    height: 32px;\n",
              "    padding: 0;\n",
              "    width: 32px;\n",
              "  }\n",
              "\n",
              "  .colab-df-quickchart:hover {\n",
              "    background-color: var(--hover-bg-color);\n",
              "    box-shadow: 0 1px 2px rgba(60, 64, 67, 0.3), 0 1px 3px 1px rgba(60, 64, 67, 0.15);\n",
              "    fill: var(--button-hover-fill-color);\n",
              "  }\n",
              "\n",
              "  .colab-df-quickchart-complete:disabled,\n",
              "  .colab-df-quickchart-complete:disabled:hover {\n",
              "    background-color: var(--disabled-bg-color);\n",
              "    fill: var(--disabled-fill-color);\n",
              "    box-shadow: none;\n",
              "  }\n",
              "\n",
              "  .colab-df-spinner {\n",
              "    border: 2px solid var(--fill-color);\n",
              "    border-color: transparent;\n",
              "    border-bottom-color: var(--fill-color);\n",
              "    animation:\n",
              "      spin 1s steps(1) infinite;\n",
              "  }\n",
              "\n",
              "  @keyframes spin {\n",
              "    0% {\n",
              "      border-color: transparent;\n",
              "      border-bottom-color: var(--fill-color);\n",
              "      border-left-color: var(--fill-color);\n",
              "    }\n",
              "    20% {\n",
              "      border-color: transparent;\n",
              "      border-left-color: var(--fill-color);\n",
              "      border-top-color: var(--fill-color);\n",
              "    }\n",
              "    30% {\n",
              "      border-color: transparent;\n",
              "      border-left-color: var(--fill-color);\n",
              "      border-top-color: var(--fill-color);\n",
              "      border-right-color: var(--fill-color);\n",
              "    }\n",
              "    40% {\n",
              "      border-color: transparent;\n",
              "      border-right-color: var(--fill-color);\n",
              "      border-top-color: var(--fill-color);\n",
              "    }\n",
              "    60% {\n",
              "      border-color: transparent;\n",
              "      border-right-color: var(--fill-color);\n",
              "    }\n",
              "    80% {\n",
              "      border-color: transparent;\n",
              "      border-right-color: var(--fill-color);\n",
              "      border-bottom-color: var(--fill-color);\n",
              "    }\n",
              "    90% {\n",
              "      border-color: transparent;\n",
              "      border-bottom-color: var(--fill-color);\n",
              "    }\n",
              "  }\n",
              "</style>\n",
              "\n",
              "  <script>\n",
              "    async function quickchart(key) {\n",
              "      const quickchartButtonEl =\n",
              "        document.querySelector('#' + key + ' button');\n",
              "      quickchartButtonEl.disabled = true;  // To prevent multiple clicks.\n",
              "      quickchartButtonEl.classList.add('colab-df-spinner');\n",
              "      try {\n",
              "        const charts = await google.colab.kernel.invokeFunction(\n",
              "            'suggestCharts', [key], {});\n",
              "      } catch (error) {\n",
              "        console.error('Error during call to suggestCharts:', error);\n",
              "      }\n",
              "      quickchartButtonEl.classList.remove('colab-df-spinner');\n",
              "      quickchartButtonEl.classList.add('colab-df-quickchart-complete');\n",
              "    }\n",
              "    (() => {\n",
              "      let quickchartButtonEl =\n",
              "        document.querySelector('#df-47886143-1999-4147-8ca7-d7b35eca11a9 button');\n",
              "      quickchartButtonEl.style.display =\n",
              "        google.colab.kernel.accessAllowed ? 'block' : 'none';\n",
              "    })();\n",
              "  </script>\n",
              "</div>\n",
              "\n",
              "    </div>\n",
              "  </div>\n"
            ]
          },
          "metadata": {},
          "execution_count": 6
        }
      ]
    },
    {
      "cell_type": "code",
      "source": [
        "df['City'].unique()"
      ],
      "metadata": {
        "colab": {
          "base_uri": "https://localhost:8080/"
        },
        "id": "Ix_0ZDn6nxEr",
        "outputId": "6efc4c10-f210-46bb-84a9-e46a813e11e1"
      },
      "execution_count": 7,
      "outputs": [
        {
          "output_type": "execute_result",
          "data": {
            "text/plain": [
              "array(['Yangon', 'Naypyitaw', 'Mandalay'], dtype=object)"
            ]
          },
          "metadata": {},
          "execution_count": 7
        }
      ]
    },
    {
      "cell_type": "code",
      "source": [
        "Yangon_df = df[df['City'] == 'Yangon']\n",
        "Naypyitaw_df = df[df['City'] == 'Naypyitaw']\n",
        "Mandalay_df = df[df['City'] == 'Mandalay']"
      ],
      "metadata": {
        "id": "N8k99_d_n_xJ"
      },
      "execution_count": 8,
      "outputs": []
    },
    {
      "cell_type": "code",
      "source": [
        "Yangon_df.head()"
      ],
      "metadata": {
        "colab": {
          "base_uri": "https://localhost:8080/",
          "height": 310
        },
        "id": "y-TBn-3WqDOp",
        "outputId": "a7ef9de7-56fb-4f99-c8a6-93e19bbd409d"
      },
      "execution_count": 9,
      "outputs": [
        {
          "output_type": "execute_result",
          "data": {
            "text/plain": [
              "    Invoice ID Branch    City Customer type  Gender            Product line  \\\n",
              "0  750-67-8428      A  Yangon        Member  Female       Health and beauty   \n",
              "2  631-41-3108      A  Yangon        Normal    Male      Home and lifestyle   \n",
              "3  123-19-1176      A  Yangon        Member    Male       Health and beauty   \n",
              "4  373-73-7910      A  Yangon        Normal    Male       Sports and travel   \n",
              "6  355-53-5943      A  Yangon        Member  Female  Electronic accessories   \n",
              "\n",
              "   Unit price  Quantity   Tax 5%     Total       Date   Time      Payment  \\\n",
              "0       74.69         7  26.1415  548.9715   1/5/2019  13:08      Ewallet   \n",
              "2       46.33         7  16.2155  340.5255   3/3/2019  13:23  Credit card   \n",
              "3       58.22         8  23.2880  489.0480  1/27/2019  20:33      Ewallet   \n",
              "4       86.31         7  30.2085  634.3785   2/8/2019  10:37      Ewallet   \n",
              "6       68.84         6  20.6520  433.6920  2/25/2019  14:36      Ewallet   \n",
              "\n",
              "     cogs  gross margin percentage  gross income  Rating  \n",
              "0  522.83                 4.761905       26.1415     9.1  \n",
              "2  324.31                 4.761905       16.2155     7.4  \n",
              "3  465.76                 4.761905       23.2880     8.4  \n",
              "4  604.17                 4.761905       30.2085     5.3  \n",
              "6  413.04                 4.761905       20.6520     5.8  "
            ],
            "text/html": [
              "\n",
              "  <div id=\"df-48182e58-a52e-4fe6-882c-8dd25362cc62\" class=\"colab-df-container\">\n",
              "    <div>\n",
              "<style scoped>\n",
              "    .dataframe tbody tr th:only-of-type {\n",
              "        vertical-align: middle;\n",
              "    }\n",
              "\n",
              "    .dataframe tbody tr th {\n",
              "        vertical-align: top;\n",
              "    }\n",
              "\n",
              "    .dataframe thead th {\n",
              "        text-align: right;\n",
              "    }\n",
              "</style>\n",
              "<table border=\"1\" class=\"dataframe\">\n",
              "  <thead>\n",
              "    <tr style=\"text-align: right;\">\n",
              "      <th></th>\n",
              "      <th>Invoice ID</th>\n",
              "      <th>Branch</th>\n",
              "      <th>City</th>\n",
              "      <th>Customer type</th>\n",
              "      <th>Gender</th>\n",
              "      <th>Product line</th>\n",
              "      <th>Unit price</th>\n",
              "      <th>Quantity</th>\n",
              "      <th>Tax 5%</th>\n",
              "      <th>Total</th>\n",
              "      <th>Date</th>\n",
              "      <th>Time</th>\n",
              "      <th>Payment</th>\n",
              "      <th>cogs</th>\n",
              "      <th>gross margin percentage</th>\n",
              "      <th>gross income</th>\n",
              "      <th>Rating</th>\n",
              "    </tr>\n",
              "  </thead>\n",
              "  <tbody>\n",
              "    <tr>\n",
              "      <th>0</th>\n",
              "      <td>750-67-8428</td>\n",
              "      <td>A</td>\n",
              "      <td>Yangon</td>\n",
              "      <td>Member</td>\n",
              "      <td>Female</td>\n",
              "      <td>Health and beauty</td>\n",
              "      <td>74.69</td>\n",
              "      <td>7</td>\n",
              "      <td>26.1415</td>\n",
              "      <td>548.9715</td>\n",
              "      <td>1/5/2019</td>\n",
              "      <td>13:08</td>\n",
              "      <td>Ewallet</td>\n",
              "      <td>522.83</td>\n",
              "      <td>4.761905</td>\n",
              "      <td>26.1415</td>\n",
              "      <td>9.1</td>\n",
              "    </tr>\n",
              "    <tr>\n",
              "      <th>2</th>\n",
              "      <td>631-41-3108</td>\n",
              "      <td>A</td>\n",
              "      <td>Yangon</td>\n",
              "      <td>Normal</td>\n",
              "      <td>Male</td>\n",
              "      <td>Home and lifestyle</td>\n",
              "      <td>46.33</td>\n",
              "      <td>7</td>\n",
              "      <td>16.2155</td>\n",
              "      <td>340.5255</td>\n",
              "      <td>3/3/2019</td>\n",
              "      <td>13:23</td>\n",
              "      <td>Credit card</td>\n",
              "      <td>324.31</td>\n",
              "      <td>4.761905</td>\n",
              "      <td>16.2155</td>\n",
              "      <td>7.4</td>\n",
              "    </tr>\n",
              "    <tr>\n",
              "      <th>3</th>\n",
              "      <td>123-19-1176</td>\n",
              "      <td>A</td>\n",
              "      <td>Yangon</td>\n",
              "      <td>Member</td>\n",
              "      <td>Male</td>\n",
              "      <td>Health and beauty</td>\n",
              "      <td>58.22</td>\n",
              "      <td>8</td>\n",
              "      <td>23.2880</td>\n",
              "      <td>489.0480</td>\n",
              "      <td>1/27/2019</td>\n",
              "      <td>20:33</td>\n",
              "      <td>Ewallet</td>\n",
              "      <td>465.76</td>\n",
              "      <td>4.761905</td>\n",
              "      <td>23.2880</td>\n",
              "      <td>8.4</td>\n",
              "    </tr>\n",
              "    <tr>\n",
              "      <th>4</th>\n",
              "      <td>373-73-7910</td>\n",
              "      <td>A</td>\n",
              "      <td>Yangon</td>\n",
              "      <td>Normal</td>\n",
              "      <td>Male</td>\n",
              "      <td>Sports and travel</td>\n",
              "      <td>86.31</td>\n",
              "      <td>7</td>\n",
              "      <td>30.2085</td>\n",
              "      <td>634.3785</td>\n",
              "      <td>2/8/2019</td>\n",
              "      <td>10:37</td>\n",
              "      <td>Ewallet</td>\n",
              "      <td>604.17</td>\n",
              "      <td>4.761905</td>\n",
              "      <td>30.2085</td>\n",
              "      <td>5.3</td>\n",
              "    </tr>\n",
              "    <tr>\n",
              "      <th>6</th>\n",
              "      <td>355-53-5943</td>\n",
              "      <td>A</td>\n",
              "      <td>Yangon</td>\n",
              "      <td>Member</td>\n",
              "      <td>Female</td>\n",
              "      <td>Electronic accessories</td>\n",
              "      <td>68.84</td>\n",
              "      <td>6</td>\n",
              "      <td>20.6520</td>\n",
              "      <td>433.6920</td>\n",
              "      <td>2/25/2019</td>\n",
              "      <td>14:36</td>\n",
              "      <td>Ewallet</td>\n",
              "      <td>413.04</td>\n",
              "      <td>4.761905</td>\n",
              "      <td>20.6520</td>\n",
              "      <td>5.8</td>\n",
              "    </tr>\n",
              "  </tbody>\n",
              "</table>\n",
              "</div>\n",
              "    <div class=\"colab-df-buttons\">\n",
              "\n",
              "  <div class=\"colab-df-container\">\n",
              "    <button class=\"colab-df-convert\" onclick=\"convertToInteractive('df-48182e58-a52e-4fe6-882c-8dd25362cc62')\"\n",
              "            title=\"Convert this dataframe to an interactive table.\"\n",
              "            style=\"display:none;\">\n",
              "\n",
              "  <svg xmlns=\"http://www.w3.org/2000/svg\" height=\"24px\" viewBox=\"0 -960 960 960\">\n",
              "    <path d=\"M120-120v-720h720v720H120Zm60-500h600v-160H180v160Zm220 220h160v-160H400v160Zm0 220h160v-160H400v160ZM180-400h160v-160H180v160Zm440 0h160v-160H620v160ZM180-180h160v-160H180v160Zm440 0h160v-160H620v160Z\"/>\n",
              "  </svg>\n",
              "    </button>\n",
              "\n",
              "  <style>\n",
              "    .colab-df-container {\n",
              "      display:flex;\n",
              "      gap: 12px;\n",
              "    }\n",
              "\n",
              "    .colab-df-convert {\n",
              "      background-color: #E8F0FE;\n",
              "      border: none;\n",
              "      border-radius: 50%;\n",
              "      cursor: pointer;\n",
              "      display: none;\n",
              "      fill: #1967D2;\n",
              "      height: 32px;\n",
              "      padding: 0 0 0 0;\n",
              "      width: 32px;\n",
              "    }\n",
              "\n",
              "    .colab-df-convert:hover {\n",
              "      background-color: #E2EBFA;\n",
              "      box-shadow: 0px 1px 2px rgba(60, 64, 67, 0.3), 0px 1px 3px 1px rgba(60, 64, 67, 0.15);\n",
              "      fill: #174EA6;\n",
              "    }\n",
              "\n",
              "    .colab-df-buttons div {\n",
              "      margin-bottom: 4px;\n",
              "    }\n",
              "\n",
              "    [theme=dark] .colab-df-convert {\n",
              "      background-color: #3B4455;\n",
              "      fill: #D2E3FC;\n",
              "    }\n",
              "\n",
              "    [theme=dark] .colab-df-convert:hover {\n",
              "      background-color: #434B5C;\n",
              "      box-shadow: 0px 1px 3px 1px rgba(0, 0, 0, 0.15);\n",
              "      filter: drop-shadow(0px 1px 2px rgba(0, 0, 0, 0.3));\n",
              "      fill: #FFFFFF;\n",
              "    }\n",
              "  </style>\n",
              "\n",
              "    <script>\n",
              "      const buttonEl =\n",
              "        document.querySelector('#df-48182e58-a52e-4fe6-882c-8dd25362cc62 button.colab-df-convert');\n",
              "      buttonEl.style.display =\n",
              "        google.colab.kernel.accessAllowed ? 'block' : 'none';\n",
              "\n",
              "      async function convertToInteractive(key) {\n",
              "        const element = document.querySelector('#df-48182e58-a52e-4fe6-882c-8dd25362cc62');\n",
              "        const dataTable =\n",
              "          await google.colab.kernel.invokeFunction('convertToInteractive',\n",
              "                                                    [key], {});\n",
              "        if (!dataTable) return;\n",
              "\n",
              "        const docLinkHtml = 'Like what you see? Visit the ' +\n",
              "          '<a target=\"_blank\" href=https://colab.research.google.com/notebooks/data_table.ipynb>data table notebook</a>'\n",
              "          + ' to learn more about interactive tables.';\n",
              "        element.innerHTML = '';\n",
              "        dataTable['output_type'] = 'display_data';\n",
              "        await google.colab.output.renderOutput(dataTable, element);\n",
              "        const docLink = document.createElement('div');\n",
              "        docLink.innerHTML = docLinkHtml;\n",
              "        element.appendChild(docLink);\n",
              "      }\n",
              "    </script>\n",
              "  </div>\n",
              "\n",
              "\n",
              "<div id=\"df-da8ed7a0-eaed-43df-8119-2211abc17b97\">\n",
              "  <button class=\"colab-df-quickchart\" onclick=\"quickchart('df-da8ed7a0-eaed-43df-8119-2211abc17b97')\"\n",
              "            title=\"Suggest charts\"\n",
              "            style=\"display:none;\">\n",
              "\n",
              "<svg xmlns=\"http://www.w3.org/2000/svg\" height=\"24px\"viewBox=\"0 0 24 24\"\n",
              "     width=\"24px\">\n",
              "    <g>\n",
              "        <path d=\"M19 3H5c-1.1 0-2 .9-2 2v14c0 1.1.9 2 2 2h14c1.1 0 2-.9 2-2V5c0-1.1-.9-2-2-2zM9 17H7v-7h2v7zm4 0h-2V7h2v10zm4 0h-2v-4h2v4z\"/>\n",
              "    </g>\n",
              "</svg>\n",
              "  </button>\n",
              "\n",
              "<style>\n",
              "  .colab-df-quickchart {\n",
              "      --bg-color: #E8F0FE;\n",
              "      --fill-color: #1967D2;\n",
              "      --hover-bg-color: #E2EBFA;\n",
              "      --hover-fill-color: #174EA6;\n",
              "      --disabled-fill-color: #AAA;\n",
              "      --disabled-bg-color: #DDD;\n",
              "  }\n",
              "\n",
              "  [theme=dark] .colab-df-quickchart {\n",
              "      --bg-color: #3B4455;\n",
              "      --fill-color: #D2E3FC;\n",
              "      --hover-bg-color: #434B5C;\n",
              "      --hover-fill-color: #FFFFFF;\n",
              "      --disabled-bg-color: #3B4455;\n",
              "      --disabled-fill-color: #666;\n",
              "  }\n",
              "\n",
              "  .colab-df-quickchart {\n",
              "    background-color: var(--bg-color);\n",
              "    border: none;\n",
              "    border-radius: 50%;\n",
              "    cursor: pointer;\n",
              "    display: none;\n",
              "    fill: var(--fill-color);\n",
              "    height: 32px;\n",
              "    padding: 0;\n",
              "    width: 32px;\n",
              "  }\n",
              "\n",
              "  .colab-df-quickchart:hover {\n",
              "    background-color: var(--hover-bg-color);\n",
              "    box-shadow: 0 1px 2px rgba(60, 64, 67, 0.3), 0 1px 3px 1px rgba(60, 64, 67, 0.15);\n",
              "    fill: var(--button-hover-fill-color);\n",
              "  }\n",
              "\n",
              "  .colab-df-quickchart-complete:disabled,\n",
              "  .colab-df-quickchart-complete:disabled:hover {\n",
              "    background-color: var(--disabled-bg-color);\n",
              "    fill: var(--disabled-fill-color);\n",
              "    box-shadow: none;\n",
              "  }\n",
              "\n",
              "  .colab-df-spinner {\n",
              "    border: 2px solid var(--fill-color);\n",
              "    border-color: transparent;\n",
              "    border-bottom-color: var(--fill-color);\n",
              "    animation:\n",
              "      spin 1s steps(1) infinite;\n",
              "  }\n",
              "\n",
              "  @keyframes spin {\n",
              "    0% {\n",
              "      border-color: transparent;\n",
              "      border-bottom-color: var(--fill-color);\n",
              "      border-left-color: var(--fill-color);\n",
              "    }\n",
              "    20% {\n",
              "      border-color: transparent;\n",
              "      border-left-color: var(--fill-color);\n",
              "      border-top-color: var(--fill-color);\n",
              "    }\n",
              "    30% {\n",
              "      border-color: transparent;\n",
              "      border-left-color: var(--fill-color);\n",
              "      border-top-color: var(--fill-color);\n",
              "      border-right-color: var(--fill-color);\n",
              "    }\n",
              "    40% {\n",
              "      border-color: transparent;\n",
              "      border-right-color: var(--fill-color);\n",
              "      border-top-color: var(--fill-color);\n",
              "    }\n",
              "    60% {\n",
              "      border-color: transparent;\n",
              "      border-right-color: var(--fill-color);\n",
              "    }\n",
              "    80% {\n",
              "      border-color: transparent;\n",
              "      border-right-color: var(--fill-color);\n",
              "      border-bottom-color: var(--fill-color);\n",
              "    }\n",
              "    90% {\n",
              "      border-color: transparent;\n",
              "      border-bottom-color: var(--fill-color);\n",
              "    }\n",
              "  }\n",
              "</style>\n",
              "\n",
              "  <script>\n",
              "    async function quickchart(key) {\n",
              "      const quickchartButtonEl =\n",
              "        document.querySelector('#' + key + ' button');\n",
              "      quickchartButtonEl.disabled = true;  // To prevent multiple clicks.\n",
              "      quickchartButtonEl.classList.add('colab-df-spinner');\n",
              "      try {\n",
              "        const charts = await google.colab.kernel.invokeFunction(\n",
              "            'suggestCharts', [key], {});\n",
              "      } catch (error) {\n",
              "        console.error('Error during call to suggestCharts:', error);\n",
              "      }\n",
              "      quickchartButtonEl.classList.remove('colab-df-spinner');\n",
              "      quickchartButtonEl.classList.add('colab-df-quickchart-complete');\n",
              "    }\n",
              "    (() => {\n",
              "      let quickchartButtonEl =\n",
              "        document.querySelector('#df-da8ed7a0-eaed-43df-8119-2211abc17b97 button');\n",
              "      quickchartButtonEl.style.display =\n",
              "        google.colab.kernel.accessAllowed ? 'block' : 'none';\n",
              "    })();\n",
              "  </script>\n",
              "</div>\n",
              "\n",
              "    </div>\n",
              "  </div>\n"
            ]
          },
          "metadata": {},
          "execution_count": 9
        }
      ]
    },
    {
      "cell_type": "code",
      "source": [
        "Naypyitaw_df.head()"
      ],
      "metadata": {
        "colab": {
          "base_uri": "https://localhost:8080/",
          "height": 310
        },
        "id": "2iBVEiwRqIo-",
        "outputId": "422a6ca5-358e-4938-e469-bb7e2f6b093c"
      },
      "execution_count": 10,
      "outputs": [
        {
          "output_type": "execute_result",
          "data": {
            "text/plain": [
              "     Invoice ID Branch       City Customer type  Gender  \\\n",
              "1   226-31-3081      C  Naypyitaw        Normal  Female   \n",
              "5   699-14-3026      C  Naypyitaw        Normal    Male   \n",
              "7   315-22-5665      C  Naypyitaw        Normal  Female   \n",
              "20  300-71-4605      C  Naypyitaw        Member    Male   \n",
              "34  183-56-6882      C  Naypyitaw        Member  Female   \n",
              "\n",
              "              Product line  Unit price  Quantity   Tax 5%     Total  \\\n",
              "1   Electronic accessories       15.28         5   3.8200   80.2200   \n",
              "5   Electronic accessories       85.39         7  29.8865  627.6165   \n",
              "7       Home and lifestyle       73.56        10  36.7800  772.3800   \n",
              "20  Electronic accessories       86.04         5  21.5100  451.7100   \n",
              "34      Food and beverages       99.42         4  19.8840  417.5640   \n",
              "\n",
              "         Date   Time  Payment    cogs  gross margin percentage  gross income  \\\n",
              "1    3/8/2019  10:29     Cash   76.40                 4.761905        3.8200   \n",
              "5   3/25/2019  18:30  Ewallet  597.73                 4.761905       29.8865   \n",
              "7   2/24/2019  11:38  Ewallet  735.60                 4.761905       36.7800   \n",
              "20  2/25/2019  11:24  Ewallet  430.20                 4.761905       21.5100   \n",
              "34   2/6/2019  10:42  Ewallet  397.68                 4.761905       19.8840   \n",
              "\n",
              "    Rating  \n",
              "1      9.6  \n",
              "5      4.1  \n",
              "7      8.0  \n",
              "20     4.8  \n",
              "34     7.5  "
            ],
            "text/html": [
              "\n",
              "  <div id=\"df-dcf00c25-4df8-41ea-b255-8ae50cfb7bcc\" class=\"colab-df-container\">\n",
              "    <div>\n",
              "<style scoped>\n",
              "    .dataframe tbody tr th:only-of-type {\n",
              "        vertical-align: middle;\n",
              "    }\n",
              "\n",
              "    .dataframe tbody tr th {\n",
              "        vertical-align: top;\n",
              "    }\n",
              "\n",
              "    .dataframe thead th {\n",
              "        text-align: right;\n",
              "    }\n",
              "</style>\n",
              "<table border=\"1\" class=\"dataframe\">\n",
              "  <thead>\n",
              "    <tr style=\"text-align: right;\">\n",
              "      <th></th>\n",
              "      <th>Invoice ID</th>\n",
              "      <th>Branch</th>\n",
              "      <th>City</th>\n",
              "      <th>Customer type</th>\n",
              "      <th>Gender</th>\n",
              "      <th>Product line</th>\n",
              "      <th>Unit price</th>\n",
              "      <th>Quantity</th>\n",
              "      <th>Tax 5%</th>\n",
              "      <th>Total</th>\n",
              "      <th>Date</th>\n",
              "      <th>Time</th>\n",
              "      <th>Payment</th>\n",
              "      <th>cogs</th>\n",
              "      <th>gross margin percentage</th>\n",
              "      <th>gross income</th>\n",
              "      <th>Rating</th>\n",
              "    </tr>\n",
              "  </thead>\n",
              "  <tbody>\n",
              "    <tr>\n",
              "      <th>1</th>\n",
              "      <td>226-31-3081</td>\n",
              "      <td>C</td>\n",
              "      <td>Naypyitaw</td>\n",
              "      <td>Normal</td>\n",
              "      <td>Female</td>\n",
              "      <td>Electronic accessories</td>\n",
              "      <td>15.28</td>\n",
              "      <td>5</td>\n",
              "      <td>3.8200</td>\n",
              "      <td>80.2200</td>\n",
              "      <td>3/8/2019</td>\n",
              "      <td>10:29</td>\n",
              "      <td>Cash</td>\n",
              "      <td>76.40</td>\n",
              "      <td>4.761905</td>\n",
              "      <td>3.8200</td>\n",
              "      <td>9.6</td>\n",
              "    </tr>\n",
              "    <tr>\n",
              "      <th>5</th>\n",
              "      <td>699-14-3026</td>\n",
              "      <td>C</td>\n",
              "      <td>Naypyitaw</td>\n",
              "      <td>Normal</td>\n",
              "      <td>Male</td>\n",
              "      <td>Electronic accessories</td>\n",
              "      <td>85.39</td>\n",
              "      <td>7</td>\n",
              "      <td>29.8865</td>\n",
              "      <td>627.6165</td>\n",
              "      <td>3/25/2019</td>\n",
              "      <td>18:30</td>\n",
              "      <td>Ewallet</td>\n",
              "      <td>597.73</td>\n",
              "      <td>4.761905</td>\n",
              "      <td>29.8865</td>\n",
              "      <td>4.1</td>\n",
              "    </tr>\n",
              "    <tr>\n",
              "      <th>7</th>\n",
              "      <td>315-22-5665</td>\n",
              "      <td>C</td>\n",
              "      <td>Naypyitaw</td>\n",
              "      <td>Normal</td>\n",
              "      <td>Female</td>\n",
              "      <td>Home and lifestyle</td>\n",
              "      <td>73.56</td>\n",
              "      <td>10</td>\n",
              "      <td>36.7800</td>\n",
              "      <td>772.3800</td>\n",
              "      <td>2/24/2019</td>\n",
              "      <td>11:38</td>\n",
              "      <td>Ewallet</td>\n",
              "      <td>735.60</td>\n",
              "      <td>4.761905</td>\n",
              "      <td>36.7800</td>\n",
              "      <td>8.0</td>\n",
              "    </tr>\n",
              "    <tr>\n",
              "      <th>20</th>\n",
              "      <td>300-71-4605</td>\n",
              "      <td>C</td>\n",
              "      <td>Naypyitaw</td>\n",
              "      <td>Member</td>\n",
              "      <td>Male</td>\n",
              "      <td>Electronic accessories</td>\n",
              "      <td>86.04</td>\n",
              "      <td>5</td>\n",
              "      <td>21.5100</td>\n",
              "      <td>451.7100</td>\n",
              "      <td>2/25/2019</td>\n",
              "      <td>11:24</td>\n",
              "      <td>Ewallet</td>\n",
              "      <td>430.20</td>\n",
              "      <td>4.761905</td>\n",
              "      <td>21.5100</td>\n",
              "      <td>4.8</td>\n",
              "    </tr>\n",
              "    <tr>\n",
              "      <th>34</th>\n",
              "      <td>183-56-6882</td>\n",
              "      <td>C</td>\n",
              "      <td>Naypyitaw</td>\n",
              "      <td>Member</td>\n",
              "      <td>Female</td>\n",
              "      <td>Food and beverages</td>\n",
              "      <td>99.42</td>\n",
              "      <td>4</td>\n",
              "      <td>19.8840</td>\n",
              "      <td>417.5640</td>\n",
              "      <td>2/6/2019</td>\n",
              "      <td>10:42</td>\n",
              "      <td>Ewallet</td>\n",
              "      <td>397.68</td>\n",
              "      <td>4.761905</td>\n",
              "      <td>19.8840</td>\n",
              "      <td>7.5</td>\n",
              "    </tr>\n",
              "  </tbody>\n",
              "</table>\n",
              "</div>\n",
              "    <div class=\"colab-df-buttons\">\n",
              "\n",
              "  <div class=\"colab-df-container\">\n",
              "    <button class=\"colab-df-convert\" onclick=\"convertToInteractive('df-dcf00c25-4df8-41ea-b255-8ae50cfb7bcc')\"\n",
              "            title=\"Convert this dataframe to an interactive table.\"\n",
              "            style=\"display:none;\">\n",
              "\n",
              "  <svg xmlns=\"http://www.w3.org/2000/svg\" height=\"24px\" viewBox=\"0 -960 960 960\">\n",
              "    <path d=\"M120-120v-720h720v720H120Zm60-500h600v-160H180v160Zm220 220h160v-160H400v160Zm0 220h160v-160H400v160ZM180-400h160v-160H180v160Zm440 0h160v-160H620v160ZM180-180h160v-160H180v160Zm440 0h160v-160H620v160Z\"/>\n",
              "  </svg>\n",
              "    </button>\n",
              "\n",
              "  <style>\n",
              "    .colab-df-container {\n",
              "      display:flex;\n",
              "      gap: 12px;\n",
              "    }\n",
              "\n",
              "    .colab-df-convert {\n",
              "      background-color: #E8F0FE;\n",
              "      border: none;\n",
              "      border-radius: 50%;\n",
              "      cursor: pointer;\n",
              "      display: none;\n",
              "      fill: #1967D2;\n",
              "      height: 32px;\n",
              "      padding: 0 0 0 0;\n",
              "      width: 32px;\n",
              "    }\n",
              "\n",
              "    .colab-df-convert:hover {\n",
              "      background-color: #E2EBFA;\n",
              "      box-shadow: 0px 1px 2px rgba(60, 64, 67, 0.3), 0px 1px 3px 1px rgba(60, 64, 67, 0.15);\n",
              "      fill: #174EA6;\n",
              "    }\n",
              "\n",
              "    .colab-df-buttons div {\n",
              "      margin-bottom: 4px;\n",
              "    }\n",
              "\n",
              "    [theme=dark] .colab-df-convert {\n",
              "      background-color: #3B4455;\n",
              "      fill: #D2E3FC;\n",
              "    }\n",
              "\n",
              "    [theme=dark] .colab-df-convert:hover {\n",
              "      background-color: #434B5C;\n",
              "      box-shadow: 0px 1px 3px 1px rgba(0, 0, 0, 0.15);\n",
              "      filter: drop-shadow(0px 1px 2px rgba(0, 0, 0, 0.3));\n",
              "      fill: #FFFFFF;\n",
              "    }\n",
              "  </style>\n",
              "\n",
              "    <script>\n",
              "      const buttonEl =\n",
              "        document.querySelector('#df-dcf00c25-4df8-41ea-b255-8ae50cfb7bcc button.colab-df-convert');\n",
              "      buttonEl.style.display =\n",
              "        google.colab.kernel.accessAllowed ? 'block' : 'none';\n",
              "\n",
              "      async function convertToInteractive(key) {\n",
              "        const element = document.querySelector('#df-dcf00c25-4df8-41ea-b255-8ae50cfb7bcc');\n",
              "        const dataTable =\n",
              "          await google.colab.kernel.invokeFunction('convertToInteractive',\n",
              "                                                    [key], {});\n",
              "        if (!dataTable) return;\n",
              "\n",
              "        const docLinkHtml = 'Like what you see? Visit the ' +\n",
              "          '<a target=\"_blank\" href=https://colab.research.google.com/notebooks/data_table.ipynb>data table notebook</a>'\n",
              "          + ' to learn more about interactive tables.';\n",
              "        element.innerHTML = '';\n",
              "        dataTable['output_type'] = 'display_data';\n",
              "        await google.colab.output.renderOutput(dataTable, element);\n",
              "        const docLink = document.createElement('div');\n",
              "        docLink.innerHTML = docLinkHtml;\n",
              "        element.appendChild(docLink);\n",
              "      }\n",
              "    </script>\n",
              "  </div>\n",
              "\n",
              "\n",
              "<div id=\"df-b1150dff-3bb8-442a-95c7-ebb3edcb09ed\">\n",
              "  <button class=\"colab-df-quickchart\" onclick=\"quickchart('df-b1150dff-3bb8-442a-95c7-ebb3edcb09ed')\"\n",
              "            title=\"Suggest charts\"\n",
              "            style=\"display:none;\">\n",
              "\n",
              "<svg xmlns=\"http://www.w3.org/2000/svg\" height=\"24px\"viewBox=\"0 0 24 24\"\n",
              "     width=\"24px\">\n",
              "    <g>\n",
              "        <path d=\"M19 3H5c-1.1 0-2 .9-2 2v14c0 1.1.9 2 2 2h14c1.1 0 2-.9 2-2V5c0-1.1-.9-2-2-2zM9 17H7v-7h2v7zm4 0h-2V7h2v10zm4 0h-2v-4h2v4z\"/>\n",
              "    </g>\n",
              "</svg>\n",
              "  </button>\n",
              "\n",
              "<style>\n",
              "  .colab-df-quickchart {\n",
              "      --bg-color: #E8F0FE;\n",
              "      --fill-color: #1967D2;\n",
              "      --hover-bg-color: #E2EBFA;\n",
              "      --hover-fill-color: #174EA6;\n",
              "      --disabled-fill-color: #AAA;\n",
              "      --disabled-bg-color: #DDD;\n",
              "  }\n",
              "\n",
              "  [theme=dark] .colab-df-quickchart {\n",
              "      --bg-color: #3B4455;\n",
              "      --fill-color: #D2E3FC;\n",
              "      --hover-bg-color: #434B5C;\n",
              "      --hover-fill-color: #FFFFFF;\n",
              "      --disabled-bg-color: #3B4455;\n",
              "      --disabled-fill-color: #666;\n",
              "  }\n",
              "\n",
              "  .colab-df-quickchart {\n",
              "    background-color: var(--bg-color);\n",
              "    border: none;\n",
              "    border-radius: 50%;\n",
              "    cursor: pointer;\n",
              "    display: none;\n",
              "    fill: var(--fill-color);\n",
              "    height: 32px;\n",
              "    padding: 0;\n",
              "    width: 32px;\n",
              "  }\n",
              "\n",
              "  .colab-df-quickchart:hover {\n",
              "    background-color: var(--hover-bg-color);\n",
              "    box-shadow: 0 1px 2px rgba(60, 64, 67, 0.3), 0 1px 3px 1px rgba(60, 64, 67, 0.15);\n",
              "    fill: var(--button-hover-fill-color);\n",
              "  }\n",
              "\n",
              "  .colab-df-quickchart-complete:disabled,\n",
              "  .colab-df-quickchart-complete:disabled:hover {\n",
              "    background-color: var(--disabled-bg-color);\n",
              "    fill: var(--disabled-fill-color);\n",
              "    box-shadow: none;\n",
              "  }\n",
              "\n",
              "  .colab-df-spinner {\n",
              "    border: 2px solid var(--fill-color);\n",
              "    border-color: transparent;\n",
              "    border-bottom-color: var(--fill-color);\n",
              "    animation:\n",
              "      spin 1s steps(1) infinite;\n",
              "  }\n",
              "\n",
              "  @keyframes spin {\n",
              "    0% {\n",
              "      border-color: transparent;\n",
              "      border-bottom-color: var(--fill-color);\n",
              "      border-left-color: var(--fill-color);\n",
              "    }\n",
              "    20% {\n",
              "      border-color: transparent;\n",
              "      border-left-color: var(--fill-color);\n",
              "      border-top-color: var(--fill-color);\n",
              "    }\n",
              "    30% {\n",
              "      border-color: transparent;\n",
              "      border-left-color: var(--fill-color);\n",
              "      border-top-color: var(--fill-color);\n",
              "      border-right-color: var(--fill-color);\n",
              "    }\n",
              "    40% {\n",
              "      border-color: transparent;\n",
              "      border-right-color: var(--fill-color);\n",
              "      border-top-color: var(--fill-color);\n",
              "    }\n",
              "    60% {\n",
              "      border-color: transparent;\n",
              "      border-right-color: var(--fill-color);\n",
              "    }\n",
              "    80% {\n",
              "      border-color: transparent;\n",
              "      border-right-color: var(--fill-color);\n",
              "      border-bottom-color: var(--fill-color);\n",
              "    }\n",
              "    90% {\n",
              "      border-color: transparent;\n",
              "      border-bottom-color: var(--fill-color);\n",
              "    }\n",
              "  }\n",
              "</style>\n",
              "\n",
              "  <script>\n",
              "    async function quickchart(key) {\n",
              "      const quickchartButtonEl =\n",
              "        document.querySelector('#' + key + ' button');\n",
              "      quickchartButtonEl.disabled = true;  // To prevent multiple clicks.\n",
              "      quickchartButtonEl.classList.add('colab-df-spinner');\n",
              "      try {\n",
              "        const charts = await google.colab.kernel.invokeFunction(\n",
              "            'suggestCharts', [key], {});\n",
              "      } catch (error) {\n",
              "        console.error('Error during call to suggestCharts:', error);\n",
              "      }\n",
              "      quickchartButtonEl.classList.remove('colab-df-spinner');\n",
              "      quickchartButtonEl.classList.add('colab-df-quickchart-complete');\n",
              "    }\n",
              "    (() => {\n",
              "      let quickchartButtonEl =\n",
              "        document.querySelector('#df-b1150dff-3bb8-442a-95c7-ebb3edcb09ed button');\n",
              "      quickchartButtonEl.style.display =\n",
              "        google.colab.kernel.accessAllowed ? 'block' : 'none';\n",
              "    })();\n",
              "  </script>\n",
              "</div>\n",
              "\n",
              "    </div>\n",
              "  </div>\n"
            ]
          },
          "metadata": {},
          "execution_count": 10
        }
      ]
    },
    {
      "cell_type": "code",
      "source": [
        "print(Mandalay_df['City'].nunique())"
      ],
      "metadata": {
        "colab": {
          "base_uri": "https://localhost:8080/"
        },
        "id": "lD5xDEbAq_fr",
        "outputId": "9b2f6550-765b-4edb-cb2c-75e202471dba"
      },
      "execution_count": 11,
      "outputs": [
        {
          "output_type": "stream",
          "name": "stdout",
          "text": [
            "1\n"
          ]
        }
      ]
    },
    {
      "cell_type": "code",
      "source": [
        "Yangon_Branch , Naypyitaw_Branch , Mandalay_Branch = \"A\" , \"B\" , \"C\""
      ],
      "metadata": {
        "id": "iOAIlc4frgkh"
      },
      "execution_count": 12,
      "outputs": []
    },
    {
      "cell_type": "code",
      "source": [
        "Mandalay_df = Mandalay_df.drop([\"City\",\"Branch\"],axis = 1)\n",
        "Yangon_df = Yangon_df.drop([\"City\",\"Branch\"],axis = 1)\n",
        "Naypyitaw_df = Naypyitaw_df.drop([\"City\",\"Branch\"],axis = 1)"
      ],
      "metadata": {
        "id": "RZOt1ib-uXOY"
      },
      "execution_count": 13,
      "outputs": []
    },
    {
      "cell_type": "code",
      "source": [
        "M_Ele_total_Member = Mandalay_df[df['Product line']=='Electronic accessories'][df['Customer type'] == 'Member']['Total'].sum()\n",
        "M_Ele_total_Normal = Mandalay_df[df['Product line']=='Electronic accessories'][df['Customer type'] == 'Normal']['Total'].sum()"
      ],
      "metadata": {
        "id": "gyMBBDhI8Lac",
        "colab": {
          "base_uri": "https://localhost:8080/"
        },
        "outputId": "9e0656a0-5bcc-419b-de75-468ba1784446"
      },
      "execution_count": 14,
      "outputs": [
        {
          "output_type": "stream",
          "name": "stderr",
          "text": [
            "<ipython-input-14-01096c6cc50b>:1: UserWarning: Boolean Series key will be reindexed to match DataFrame index.\n",
            "  M_Ele_total_Member = Mandalay_df[df['Product line']=='Electronic accessories'][df['Customer type'] == 'Member']['Total'].sum()\n",
            "<ipython-input-14-01096c6cc50b>:2: UserWarning: Boolean Series key will be reindexed to match DataFrame index.\n",
            "  M_Ele_total_Normal = Mandalay_df[df['Product line']=='Electronic accessories'][df['Customer type'] == 'Normal']['Total'].sum()\n"
          ]
        }
      ]
    },
    {
      "cell_type": "code",
      "source": [
        "M_Home_total_Member = Mandalay_df[df['Product line']=='Home and lifestyle'][df['Customer type'] == 'Member']['Total'].sum()\n",
        "M_Home_total_Normal = Mandalay_df[df['Product line']=='Home and lifestyle'][df['Customer type'] == 'Normal']['Total'].sum()"
      ],
      "metadata": {
        "colab": {
          "base_uri": "https://localhost:8080/"
        },
        "id": "Vm4_LyhuG94k",
        "outputId": "c7b2c5bb-b024-44cf-f5d6-72a30d19c5c1"
      },
      "execution_count": 15,
      "outputs": [
        {
          "output_type": "stream",
          "name": "stderr",
          "text": [
            "<ipython-input-15-856c4671ee66>:1: UserWarning: Boolean Series key will be reindexed to match DataFrame index.\n",
            "  M_Home_total_Member = Mandalay_df[df['Product line']=='Home and lifestyle'][df['Customer type'] == 'Member']['Total'].sum()\n",
            "<ipython-input-15-856c4671ee66>:2: UserWarning: Boolean Series key will be reindexed to match DataFrame index.\n",
            "  M_Home_total_Normal = Mandalay_df[df['Product line']=='Home and lifestyle'][df['Customer type'] == 'Normal']['Total'].sum()\n"
          ]
        }
      ]
    },
    {
      "cell_type": "code",
      "source": [
        "M_Fashion_total_Member = Mandalay_df[df['Product line']=='Fashion accessories'][df['Customer type'] == 'Member']['Total'].sum()\n",
        "M_Fashion_total_Normal = Mandalay_df[df['Product line']=='Fashion accessories'][df['Customer type'] == 'Normal']['Total'].sum()"
      ],
      "metadata": {
        "colab": {
          "base_uri": "https://localhost:8080/"
        },
        "id": "owkSI-rJHPOV",
        "outputId": "36bc29aa-2fe4-42b9-e902-2d23f6758c96"
      },
      "execution_count": 16,
      "outputs": [
        {
          "output_type": "stream",
          "name": "stderr",
          "text": [
            "<ipython-input-16-f146bac524c3>:1: UserWarning: Boolean Series key will be reindexed to match DataFrame index.\n",
            "  M_Fashion_total_Member = Mandalay_df[df['Product line']=='Fashion accessories'][df['Customer type'] == 'Member']['Total'].sum()\n",
            "<ipython-input-16-f146bac524c3>:2: UserWarning: Boolean Series key will be reindexed to match DataFrame index.\n",
            "  M_Fashion_total_Normal = Mandalay_df[df['Product line']=='Fashion accessories'][df['Customer type'] == 'Normal']['Total'].sum()\n"
          ]
        }
      ]
    },
    {
      "cell_type": "code",
      "source": [
        "M_Food_total_Member = Mandalay_df[df['Product line']=='Food and beverages'][df['Customer type'] == 'Member']['Total'].sum()\n",
        "M_Food_total_Normal = Mandalay_df[df['Product line']=='Food and beverages'][df['Customer type'] == 'Normal']['Total'].sum()"
      ],
      "metadata": {
        "colab": {
          "base_uri": "https://localhost:8080/"
        },
        "id": "hUDvvuFgHSeb",
        "outputId": "30795c74-f1a8-4e25-d3fd-1bbe70856cef"
      },
      "execution_count": 17,
      "outputs": [
        {
          "output_type": "stream",
          "name": "stderr",
          "text": [
            "<ipython-input-17-b778a2c74e02>:1: UserWarning: Boolean Series key will be reindexed to match DataFrame index.\n",
            "  M_Food_total_Member = Mandalay_df[df['Product line']=='Food and beverages'][df['Customer type'] == 'Member']['Total'].sum()\n",
            "<ipython-input-17-b778a2c74e02>:2: UserWarning: Boolean Series key will be reindexed to match DataFrame index.\n",
            "  M_Food_total_Normal = Mandalay_df[df['Product line']=='Food and beverages'][df['Customer type'] == 'Normal']['Total'].sum()\n"
          ]
        }
      ]
    },
    {
      "cell_type": "code",
      "source": [
        "M_Health_total_Member = Mandalay_df[df['Product line']=='Health and beauty'][df['Customer type'] == 'Member']['Total'].sum()\n",
        "M_Health_total_Normal = Mandalay_df[df['Product line']=='Health and beauty'][df['Customer type'] == 'Normal']['Total'].sum()"
      ],
      "metadata": {
        "colab": {
          "base_uri": "https://localhost:8080/"
        },
        "id": "FKIsD4_WHWkC",
        "outputId": "65d85bdd-3f1d-4f50-cf74-60be80f33e5e"
      },
      "execution_count": 18,
      "outputs": [
        {
          "output_type": "stream",
          "name": "stderr",
          "text": [
            "<ipython-input-18-2ad090cbadee>:1: UserWarning: Boolean Series key will be reindexed to match DataFrame index.\n",
            "  M_Health_total_Member = Mandalay_df[df['Product line']=='Health and beauty'][df['Customer type'] == 'Member']['Total'].sum()\n",
            "<ipython-input-18-2ad090cbadee>:2: UserWarning: Boolean Series key will be reindexed to match DataFrame index.\n",
            "  M_Health_total_Normal = Mandalay_df[df['Product line']=='Health and beauty'][df['Customer type'] == 'Normal']['Total'].sum()\n"
          ]
        }
      ]
    },
    {
      "cell_type": "code",
      "source": [
        "M_Sports_total_Member = Mandalay_df[df['Product line']=='Sports and travel'][df['Customer type'] == 'Member']['Total'].sum()\n",
        "M_Sports_total_Normal = Mandalay_df[df['Product line']=='Sports and travel'][df['Customer type'] == 'Normal']['Total'].sum()"
      ],
      "metadata": {
        "colab": {
          "base_uri": "https://localhost:8080/"
        },
        "id": "A2M0GZVpHaMJ",
        "outputId": "9103777e-b93f-489c-dc08-6c8d2b501ada"
      },
      "execution_count": 19,
      "outputs": [
        {
          "output_type": "stream",
          "name": "stderr",
          "text": [
            "<ipython-input-19-ab99895d3565>:1: UserWarning: Boolean Series key will be reindexed to match DataFrame index.\n",
            "  M_Sports_total_Member = Mandalay_df[df['Product line']=='Sports and travel'][df['Customer type'] == 'Member']['Total'].sum()\n",
            "<ipython-input-19-ab99895d3565>:2: UserWarning: Boolean Series key will be reindexed to match DataFrame index.\n",
            "  M_Sports_total_Normal = Mandalay_df[df['Product line']=='Sports and travel'][df['Customer type'] == 'Normal']['Total'].sum()\n"
          ]
        }
      ]
    },
    {
      "cell_type": "code",
      "source": [
        "Y_Ele_total_Member = Yangon_df[df['Product line']=='Electronic accessories'][df['Customer type'] == 'Member']['Total'].sum()\n",
        "Y_Ele_total_Normal = Yangon_df[df['Product line']=='Electronic accessories'][df['Customer type'] == 'Normal']['Total'].sum()"
      ],
      "metadata": {
        "colab": {
          "base_uri": "https://localhost:8080/"
        },
        "id": "2vFNhtH4KFq0",
        "outputId": "43a77755-19ab-4006-cf37-d3b5392cec94"
      },
      "execution_count": 20,
      "outputs": [
        {
          "output_type": "stream",
          "name": "stderr",
          "text": [
            "<ipython-input-20-f31221ae0734>:1: UserWarning: Boolean Series key will be reindexed to match DataFrame index.\n",
            "  Y_Ele_total_Member = Yangon_df[df['Product line']=='Electronic accessories'][df['Customer type'] == 'Member']['Total'].sum()\n",
            "<ipython-input-20-f31221ae0734>:2: UserWarning: Boolean Series key will be reindexed to match DataFrame index.\n",
            "  Y_Ele_total_Normal = Yangon_df[df['Product line']=='Electronic accessories'][df['Customer type'] == 'Normal']['Total'].sum()\n"
          ]
        }
      ]
    },
    {
      "cell_type": "code",
      "source": [
        "Y_Home_total_Member = Yangon_df[df['Product line']=='Home and lifestyle'][df['Customer type'] == 'Member']['Total'].sum()\n",
        "Y_Home_total_Normal = Yangon_df[df['Product line']=='Home and lifestyle'][df['Customer type'] == 'Normal']['Total'].sum()"
      ],
      "metadata": {
        "colab": {
          "base_uri": "https://localhost:8080/"
        },
        "id": "OPGtC7BjMrIv",
        "outputId": "09731f5f-2752-4378-818e-ca4449dd3def"
      },
      "execution_count": 21,
      "outputs": [
        {
          "output_type": "stream",
          "name": "stderr",
          "text": [
            "<ipython-input-21-75f4234668b9>:1: UserWarning: Boolean Series key will be reindexed to match DataFrame index.\n",
            "  Y_Home_total_Member = Yangon_df[df['Product line']=='Home and lifestyle'][df['Customer type'] == 'Member']['Total'].sum()\n",
            "<ipython-input-21-75f4234668b9>:2: UserWarning: Boolean Series key will be reindexed to match DataFrame index.\n",
            "  Y_Home_total_Normal = Yangon_df[df['Product line']=='Home and lifestyle'][df['Customer type'] == 'Normal']['Total'].sum()\n"
          ]
        }
      ]
    },
    {
      "cell_type": "code",
      "source": [
        "Y_Fashion_total_Member = Yangon_df[df['Product line']=='Fashion accessories'][df['Customer type'] == 'Member']['Total'].sum()\n",
        "Y_Fashion_total_Normal = Yangon_df[df['Product line']=='Fashion accessories'][df['Customer type'] == 'Normal']['Total'].sum()"
      ],
      "metadata": {
        "colab": {
          "base_uri": "https://localhost:8080/"
        },
        "id": "USCKlwK8M3yZ",
        "outputId": "18b1f7c1-92ad-4761-8557-d1a46bc783b7"
      },
      "execution_count": 22,
      "outputs": [
        {
          "output_type": "stream",
          "name": "stderr",
          "text": [
            "<ipython-input-22-804aa84e88bd>:1: UserWarning: Boolean Series key will be reindexed to match DataFrame index.\n",
            "  Y_Fashion_total_Member = Yangon_df[df['Product line']=='Fashion accessories'][df['Customer type'] == 'Member']['Total'].sum()\n",
            "<ipython-input-22-804aa84e88bd>:2: UserWarning: Boolean Series key will be reindexed to match DataFrame index.\n",
            "  Y_Fashion_total_Normal = Yangon_df[df['Product line']=='Fashion accessories'][df['Customer type'] == 'Normal']['Total'].sum()\n"
          ]
        }
      ]
    },
    {
      "cell_type": "code",
      "source": [
        "Y_Food_total_Member = Yangon_df[df['Product line']=='Food and beverages'][df['Customer type'] == 'Member']['Total'].sum()\n",
        "Y_Food_total_Normal = Yangon_df[df['Product line']=='Food and beverages'][df['Customer type'] == 'Normal']['Total'].sum()"
      ],
      "metadata": {
        "colab": {
          "base_uri": "https://localhost:8080/"
        },
        "id": "r93vq65fNEMx",
        "outputId": "83ed3d54-533f-484e-9d82-c98ef6e95315"
      },
      "execution_count": 23,
      "outputs": [
        {
          "output_type": "stream",
          "name": "stderr",
          "text": [
            "<ipython-input-23-b1b5c954c241>:1: UserWarning: Boolean Series key will be reindexed to match DataFrame index.\n",
            "  Y_Food_total_Member = Yangon_df[df['Product line']=='Food and beverages'][df['Customer type'] == 'Member']['Total'].sum()\n",
            "<ipython-input-23-b1b5c954c241>:2: UserWarning: Boolean Series key will be reindexed to match DataFrame index.\n",
            "  Y_Food_total_Normal = Yangon_df[df['Product line']=='Food and beverages'][df['Customer type'] == 'Normal']['Total'].sum()\n"
          ]
        }
      ]
    },
    {
      "cell_type": "code",
      "source": [
        "Y_Health_total_Member = Yangon_df[df['Product line']=='Health and beauty'][df['Customer type'] == 'Member']['Total'].sum()\n",
        "Y_Health_total_Normal = Yangon_df[df['Product line']=='Health and beauty'][df['Customer type'] == 'Normal']['Total'].sum()"
      ],
      "metadata": {
        "colab": {
          "base_uri": "https://localhost:8080/"
        },
        "id": "qpFW6UAJNUVG",
        "outputId": "c333d8ca-1ced-40aa-fdc8-74ebbefad6d3"
      },
      "execution_count": 24,
      "outputs": [
        {
          "output_type": "stream",
          "name": "stderr",
          "text": [
            "<ipython-input-24-e4c7dfbb88c5>:1: UserWarning: Boolean Series key will be reindexed to match DataFrame index.\n",
            "  Y_Health_total_Member = Yangon_df[df['Product line']=='Health and beauty'][df['Customer type'] == 'Member']['Total'].sum()\n",
            "<ipython-input-24-e4c7dfbb88c5>:2: UserWarning: Boolean Series key will be reindexed to match DataFrame index.\n",
            "  Y_Health_total_Normal = Yangon_df[df['Product line']=='Health and beauty'][df['Customer type'] == 'Normal']['Total'].sum()\n"
          ]
        }
      ]
    },
    {
      "cell_type": "code",
      "source": [
        "Y_Sports_total_Member = Yangon_df[df['Product line']=='Sports and travel'][df['Customer type'] == 'Member']['Total'].sum()\n",
        "Y_Sports_total_Normal = Yangon_df[df['Product line']=='Sports and travel'][df['Customer type'] == 'Normal']['Total'].sum()"
      ],
      "metadata": {
        "colab": {
          "base_uri": "https://localhost:8080/"
        },
        "id": "F0zkCu9XNgyX",
        "outputId": "42c6dc0b-d677-4e1f-d175-7815237adb4d"
      },
      "execution_count": 25,
      "outputs": [
        {
          "output_type": "stream",
          "name": "stderr",
          "text": [
            "<ipython-input-25-0d6ed0b9e54d>:1: UserWarning: Boolean Series key will be reindexed to match DataFrame index.\n",
            "  Y_Sports_total_Member = Yangon_df[df['Product line']=='Sports and travel'][df['Customer type'] == 'Member']['Total'].sum()\n",
            "<ipython-input-25-0d6ed0b9e54d>:2: UserWarning: Boolean Series key will be reindexed to match DataFrame index.\n",
            "  Y_Sports_total_Normal = Yangon_df[df['Product line']=='Sports and travel'][df['Customer type'] == 'Normal']['Total'].sum()\n"
          ]
        }
      ]
    },
    {
      "cell_type": "code",
      "source": [
        "N_Ele_total_Member = Naypyitaw_df[df['Product line']=='Electronic accessories'][df['Customer type'] == 'Member']['Total'].sum()\n",
        "N_Ele_total_Normal = Naypyitaw_df[df['Product line']=='Electronic accessories'][df['Customer type'] == 'Normal']['Total'].sum()"
      ],
      "metadata": {
        "colab": {
          "base_uri": "https://localhost:8080/"
        },
        "id": "dYwiVVZZNrII",
        "outputId": "25f449a5-6ada-41a1-f72e-fac80d7c8cf0"
      },
      "execution_count": 26,
      "outputs": [
        {
          "output_type": "stream",
          "name": "stderr",
          "text": [
            "<ipython-input-26-9a231eefb60c>:1: UserWarning: Boolean Series key will be reindexed to match DataFrame index.\n",
            "  N_Ele_total_Member = Naypyitaw_df[df['Product line']=='Electronic accessories'][df['Customer type'] == 'Member']['Total'].sum()\n",
            "<ipython-input-26-9a231eefb60c>:2: UserWarning: Boolean Series key will be reindexed to match DataFrame index.\n",
            "  N_Ele_total_Normal = Naypyitaw_df[df['Product line']=='Electronic accessories'][df['Customer type'] == 'Normal']['Total'].sum()\n"
          ]
        }
      ]
    },
    {
      "cell_type": "code",
      "source": [
        "N_Home_total_Member = Naypyitaw_df[df['Product line']=='Home and lifestyle'][df['Customer type'] == 'Member']['Total'].sum()\n",
        "N_Home_total_Normal = Naypyitaw_df[df['Product line']=='Home and lifestyle'][df['Customer type'] == 'Normal']['Total'].sum()"
      ],
      "metadata": {
        "colab": {
          "base_uri": "https://localhost:8080/"
        },
        "id": "aYhYtDfBN5-L",
        "outputId": "78b26c2c-57cc-4274-8a96-ac4c9037fdf6"
      },
      "execution_count": 27,
      "outputs": [
        {
          "output_type": "stream",
          "name": "stderr",
          "text": [
            "<ipython-input-27-6c6da9dd6693>:1: UserWarning: Boolean Series key will be reindexed to match DataFrame index.\n",
            "  N_Home_total_Member = Naypyitaw_df[df['Product line']=='Home and lifestyle'][df['Customer type'] == 'Member']['Total'].sum()\n",
            "<ipython-input-27-6c6da9dd6693>:2: UserWarning: Boolean Series key will be reindexed to match DataFrame index.\n",
            "  N_Home_total_Normal = Naypyitaw_df[df['Product line']=='Home and lifestyle'][df['Customer type'] == 'Normal']['Total'].sum()\n"
          ]
        }
      ]
    },
    {
      "cell_type": "code",
      "source": [
        "N_Fashion_total_Member = Naypyitaw_df[df['Product line']=='Fashion accessories'][df['Customer type'] == 'Member']['Total'].sum()\n",
        "N_Fashion_total_Normal = Naypyitaw_df[df['Product line']=='Fashion accessories'][df['Customer type'] == 'Normal']['Total'].sum()"
      ],
      "metadata": {
        "colab": {
          "base_uri": "https://localhost:8080/"
        },
        "id": "QzDkf4QgOELs",
        "outputId": "fea52ee1-15c9-404f-ae9a-2e329f246a16"
      },
      "execution_count": 28,
      "outputs": [
        {
          "output_type": "stream",
          "name": "stderr",
          "text": [
            "<ipython-input-28-dfa809c9d07e>:1: UserWarning: Boolean Series key will be reindexed to match DataFrame index.\n",
            "  N_Fashion_total_Member = Naypyitaw_df[df['Product line']=='Fashion accessories'][df['Customer type'] == 'Member']['Total'].sum()\n",
            "<ipython-input-28-dfa809c9d07e>:2: UserWarning: Boolean Series key will be reindexed to match DataFrame index.\n",
            "  N_Fashion_total_Normal = Naypyitaw_df[df['Product line']=='Fashion accessories'][df['Customer type'] == 'Normal']['Total'].sum()\n"
          ]
        }
      ]
    },
    {
      "cell_type": "code",
      "source": [
        "N_Food_total_Member = Naypyitaw_df[df['Product line']=='Food and beverages'][df['Customer type'] == 'Member']['Total'].sum()\n",
        "N_Food_total_Normal = Naypyitaw_df[df['Product line']=='Food and beverages'][df['Customer type'] == 'Normal']['Total'].sum()"
      ],
      "metadata": {
        "colab": {
          "base_uri": "https://localhost:8080/"
        },
        "id": "qfULyy7AOQcb",
        "outputId": "7745c745-8585-466e-e2e6-89f6d00b7e5e"
      },
      "execution_count": 29,
      "outputs": [
        {
          "output_type": "stream",
          "name": "stderr",
          "text": [
            "<ipython-input-29-e88565e9c23e>:1: UserWarning: Boolean Series key will be reindexed to match DataFrame index.\n",
            "  N_Food_total_Member = Naypyitaw_df[df['Product line']=='Food and beverages'][df['Customer type'] == 'Member']['Total'].sum()\n",
            "<ipython-input-29-e88565e9c23e>:2: UserWarning: Boolean Series key will be reindexed to match DataFrame index.\n",
            "  N_Food_total_Normal = Naypyitaw_df[df['Product line']=='Food and beverages'][df['Customer type'] == 'Normal']['Total'].sum()\n"
          ]
        }
      ]
    },
    {
      "cell_type": "code",
      "source": [
        "N_Health_total_Member = Naypyitaw_df[df['Product line']=='Health and beauty'][df['Customer type'] == 'Member']['Total'].sum()\n",
        "N_Health_total_Normal = Naypyitaw_df[df['Product line']=='Health and beauty'][df['Customer type'] == 'Normal']['Total'].sum()"
      ],
      "metadata": {
        "colab": {
          "base_uri": "https://localhost:8080/"
        },
        "id": "Lywf2ankOb3n",
        "outputId": "c7276a86-7516-4478-ff22-6e825319adae"
      },
      "execution_count": 30,
      "outputs": [
        {
          "output_type": "stream",
          "name": "stderr",
          "text": [
            "<ipython-input-30-7ef4f866cb7f>:1: UserWarning: Boolean Series key will be reindexed to match DataFrame index.\n",
            "  N_Health_total_Member = Naypyitaw_df[df['Product line']=='Health and beauty'][df['Customer type'] == 'Member']['Total'].sum()\n",
            "<ipython-input-30-7ef4f866cb7f>:2: UserWarning: Boolean Series key will be reindexed to match DataFrame index.\n",
            "  N_Health_total_Normal = Naypyitaw_df[df['Product line']=='Health and beauty'][df['Customer type'] == 'Normal']['Total'].sum()\n"
          ]
        }
      ]
    },
    {
      "cell_type": "code",
      "source": [
        "N_Sports_total_Member = Naypyitaw_df[df['Product line']=='Sports and travel'][df['Customer type'] == 'Member']['Total'].sum()\n",
        "N_Sports_total_Normal = Naypyitaw_df[df['Product line']=='Sports and travel'][df['Customer type'] == 'Normal']['Total'].sum()"
      ],
      "metadata": {
        "colab": {
          "base_uri": "https://localhost:8080/"
        },
        "id": "UQXFWUuVOqnb",
        "outputId": "ee426e89-2ca6-4136-bae5-c6eab0c2ea8a"
      },
      "execution_count": 31,
      "outputs": [
        {
          "output_type": "stream",
          "name": "stderr",
          "text": [
            "<ipython-input-31-2237f4c2d19e>:1: UserWarning: Boolean Series key will be reindexed to match DataFrame index.\n",
            "  N_Sports_total_Member = Naypyitaw_df[df['Product line']=='Sports and travel'][df['Customer type'] == 'Member']['Total'].sum()\n",
            "<ipython-input-31-2237f4c2d19e>:2: UserWarning: Boolean Series key will be reindexed to match DataFrame index.\n",
            "  N_Sports_total_Normal = Naypyitaw_df[df['Product line']=='Sports and travel'][df['Customer type'] == 'Normal']['Total'].sum()\n"
          ]
        }
      ]
    },
    {
      "cell_type": "code",
      "source": [
        "M_Total_Revenue_Member = [M_Ele_total_Member,M_Home_total_Member,M_Fashion_total_Member,M_Food_total_Member,M_Health_total_Member,M_Sports_total_Member]\n",
        "Y_Total_Revenue_Member = [Y_Ele_total_Member,Y_Home_total_Member,Y_Fashion_total_Member,Y_Food_total_Member,Y_Health_total_Member,Y_Sports_total_Member]\n",
        "N_Total_Revenue_Member = [N_Ele_total_Member,N_Home_total_Member,N_Fashion_total_Member,N_Food_total_Member,N_Health_total_Member,N_Sports_total_Member]\n",
        "M_Total_Revenue_Normal = [M_Ele_total_Normal,M_Home_total_Normal,M_Fashion_total_Normal,M_Food_total_Normal,M_Health_total_Normal,M_Sports_total_Normal]\n",
        "Y_Total_Revenue_Normal = [Y_Ele_total_Normal,Y_Home_total_Normal,Y_Fashion_total_Normal,Y_Food_total_Normal,Y_Health_total_Normal,Y_Sports_total_Normal]\n",
        "N_Total_Revenue_Normal = [N_Ele_total_Normal,N_Home_total_Normal,N_Fashion_total_Normal,N_Food_total_Normal,N_Health_total_Normal,N_Sports_total_Normal]\n",
        "M_items = ['Electronic accessories(B)','Home and lifestyle(B)','Fashion accessories(B)','Food and beverages(B)','Health and beauty(B)','Sports and travel(B)']\n",
        "Y_items = ['Electronic accessories(A)','Home and lifestyle(A)','Fashion accessories(A)','Food and beverages(A)','Health and beauty(A)','Sports and travel(A)']\n",
        "N_items = ['Electronic accessories(C)','Home and lifestyle(C)','Fashion accessories(C)','Food and beverages(C)','Health and beautyC)','Sports and travel(C)']"
      ],
      "metadata": {
        "id": "1Q-j9uoZOzQU"
      },
      "execution_count": 32,
      "outputs": []
    },
    {
      "cell_type": "code",
      "source": [
        "plt.bar(Y_items,Y_Total_Revenue_Member,width = 0.4,label=\"Yangon(Branch(A)) - Members of Store\")\n",
        "plt.bar(Y_items,Y_Total_Revenue_Normal,width = 0.4,bottom = Y_Total_Revenue_Member ,label=\"Yangon(Branch(A)) - Normal People\")\n",
        "plt.bar(M_items,M_Total_Revenue_Member,width = 0.4,label=\"Mandalay(Branch(B)) - Members of Store\")\n",
        "plt.bar(M_items,M_Total_Revenue_Normal,width = 0.4,bottom = M_Total_Revenue_Member ,label=\"Mandalay(Branch(B)) - Normal People\")\n",
        "plt.bar(N_items,N_Total_Revenue_Member,width = 0.4,label=\"Naypyitaw(Branch(C)) - Members of Store\")\n",
        "plt.bar(N_items,N_Total_Revenue_Normal,width = 0.4,bottom = N_Total_Revenue_Member ,label=\"Naypyitaw(Branch(C)) - Normal People\")\n",
        "plt.legend(loc = \"best\")\n",
        "plt.xticks(rotation = 90)\n",
        "plt.ylim(0,40000)\n",
        "plt.show()"
      ],
      "metadata": {
        "colab": {
          "base_uri": "https://localhost:8080/",
          "height": 595
        },
        "id": "_E0A_n_WPc5w",
        "outputId": "6fb3ab81-d153-4a57-e6ab-a4847b45501a"
      },
      "execution_count": 33,
      "outputs": [
        {
          "output_type": "display_data",
          "data": {
            "text/plain": [
              "<Figure size 640x480 with 1 Axes>"
            ],
            "image/png": "[encoded data removed]"
          },
          "metadata": {}
        }
      ]
    },
    {
      "cell_type": "code",
      "source": [],
      "metadata": {
        "id": "zuULNkX_P-li"
      },
      "execution_count": 33,
      "outputs": []
    }
  ]
}